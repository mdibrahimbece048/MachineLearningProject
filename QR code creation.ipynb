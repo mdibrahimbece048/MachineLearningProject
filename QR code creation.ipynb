{
 "cells": [
  {
   "cell_type": "code",
   "execution_count": 79,
   "id": "1e88c167",
   "metadata": {},
   "outputs": [
    {
     "name": "stdout",
     "output_type": "stream",
     "text": [
      "Requirement already satisfied: qrcode in c:\\users\\bat17\\anaconda3\\lib\\site-packages (7.4.2)\n",
      "Requirement already satisfied: typing-extensions in c:\\users\\bat17\\anaconda3\\lib\\site-packages (from qrcode) (4.3.0)\n",
      "Requirement already satisfied: pypng in c:\\users\\bat17\\anaconda3\\lib\\site-packages (from qrcode) (0.20220715.0)\n",
      "Requirement already satisfied: colorama in c:\\users\\bat17\\anaconda3\\lib\\site-packages (from qrcode) (0.4.6)\n",
      "Note: you may need to restart the kernel to use updated packages.\n"
     ]
    }
   ],
   "source": [
    "pip install qrcode\n"
   ]
  },
  {
   "cell_type": "code",
   "execution_count": 80,
   "id": "92744ec7",
   "metadata": {},
   "outputs": [],
   "source": [
    "import qrcode\n"
   ]
  },
  {
   "cell_type": "code",
   "execution_count": 81,
   "id": "9ef34603",
   "metadata": {},
   "outputs": [],
   "source": [
    " qr=qrcode.QRCode(\n",
    "     version=3,box_size=5,border=2\n",
    "  )\n",
    "information=\"\"\"Name--->Musharraf\\nDOB--->2000\\nVill--->Karamatpur\\nDist--->Katihar\\nEducation---> 10th and 12th standard from +2 Jageshwar High School\\nAmbition--->To become MBBS doctor\\nGirl_friend--->Don't hope from me\"\"\"\n",
    "for key in information:\n",
    "    qr.add_data(key)\n"
   ]
  },
  {
   "cell_type": "code",
   "execution_count": 82,
   "id": "8a4af58a",
   "metadata": {},
   "outputs": [],
   "source": [
    "qr.make()"
   ]
  },
  {
   "cell_type": "code",
   "execution_count": 83,
   "id": "c0aaa0aa",
   "metadata": {},
   "outputs": [
    {
     "data": {
      "image/png": "[encoded data removed]",
      "text/plain": [
       "<qrcode.image.pil.PilImage at 0x2076862ebe0>"
      ]
     },
     "execution_count": 83,
     "metadata": {},
     "output_type": "execute_result"
    }
   ],
   "source": [
    "qr.make_image(fill='black',back_color='white')"
   ]
  },
  {
   "cell_type": "code",
   "execution_count": 84,
   "id": "ee2b8156",
   "metadata": {},
   "outputs": [
    {
     "name": "stdout",
     "output_type": "stream",
     "text": [
      "Requirement already satisfied: qrcode in c:\\users\\bat17\\anaconda3\\lib\\site-packages (7.4.2)\n",
      "Requirement already satisfied: typing-extensions in c:\\users\\bat17\\anaconda3\\lib\\site-packages (from qrcode) (4.3.0)\n",
      "Requirement already satisfied: pypng in c:\\users\\bat17\\anaconda3\\lib\\site-packages (from qrcode) (0.20220715.0)\n",
      "Requirement already satisfied: colorama in c:\\users\\bat17\\anaconda3\\lib\\site-packages (from qrcode) (0.4.6)\n",
      "Note: you may need to restart the kernel to use updated packages.\n"
     ]
    }
   ],
   "source": [
    "pip install qrcode"
   ]
  },
  {
   "cell_type": "code",
   "execution_count": 85,
   "id": "4c8c3074",
   "metadata": {},
   "outputs": [],
   "source": [
    "import qrcode"
   ]
  },
  {
   "cell_type": "code",
   "execution_count": 92,
   "id": "5f5fa832",
   "metadata": {},
   "outputs": [],
   "source": [
    "qr=qrcode.QRCode(version=5,box_size=5,border=5)"
   ]
  },
  {
   "cell_type": "code",
   "execution_count": 93,
   "id": "87055014",
   "metadata": {},
   "outputs": [],
   "source": [
    "data=\"\"\"Name:- Md Ibrahim\\n\n",
    "Village:- Karamatpur\\n\n",
    "Post_Ofiice:- Marghia\\n\n",
    "Police_Station:-Barari\\n\n",
    "District:- Katihar\\n\n",
    "State:- Bihar\\n\n",
    "Education:- Pursuing B.Tech degree from NIT Srinagar\\n\n",
    "Ambition:-To become Programmer\\n\n",
    "Nationality:- Indian\\n\n",
    "Mob_No:- 9️⃣3️⃣5️⃣1️⃣2️⃣0️⃣3️⃣3️⃣4️⃣7️⃣\\n\n",
    "instagram_id:-abraham470\\n\n",
    "facebook_id:-Md Abraham\\n\n",
    "linkdin_id:-https://www.linkedin.com/in/md-ibrahim-4bb46a238\\n\n",
    "\"\"\""
   ]
  },
  {
   "cell_type": "code",
   "execution_count": 94,
   "id": "794ddf00",
   "metadata": {},
   "outputs": [],
   "source": [
    "qr.add_data(data)"
   ]
  },
  {
   "cell_type": "code",
   "execution_count": 95,
   "id": "c64caf23",
   "metadata": {},
   "outputs": [
    {
     "data": {
      "image/png": "[encoded data removed]",
      "text/plain": [
       "<qrcode.image.pil.PilImage at 0x2076871b820>"
      ]
     },
     "execution_count": 95,
     "metadata": {},
     "output_type": "execute_result"
    }
   ],
   "source": [
    "qr.make()\n",
    "qr.make_image()"
   ]
  },
  {
   "cell_type": "code",
   "execution_count": 97,
   "id": "4d5b424b",
   "metadata": {},
   "outputs": [
    {
     "data": {
      "image/png": "[encoded data removed]",
      "text/plain": [
       "<qrcode.image.pil.PilImage at 0x207680b6a30>"
      ]
     },
     "execution_count": 97,
     "metadata": {},
     "output_type": "execute_result"
    }
   ],
   "source": [
    "data='❤️❤️☪️🚭🚹🆒'\n",
    "qr.add_data(data)\n",
    "qr.make()\n",
    "qr.make_image()"
   ]
  },
  {
   "cell_type": "code",
   "execution_count": null,
   "id": "aad9beac",
   "metadata": {},
   "outputs": [],
   "source": []
  }
 ],
 "metadata": {
  "kernelspec": {
   "display_name": "Python 3 (ipykernel)",
   "language": "python",
   "name": "python3"
  },
  "language_info": {
   "codemirror_mode": {
    "name": "ipython",
    "version": 3
   },
   "file_extension": ".py",
   "mimetype": "text/x-python",
   "name": "python",
   "nbconvert_exporter": "python",
   "pygments_lexer": "ipython3",
   "version": "3.9.13"
  }
 },
 "nbformat": 4,
 "nbformat_minor": 5
}
